{
 "cells": [
  {
   "cell_type": "code",
   "execution_count": 2,
   "id": "bc5b627e-4aba-4912-9d6f-75506346cec6",
   "metadata": {},
   "outputs": [
    {
     "name": "stdout",
     "output_type": "stream",
     "text": [
      "['mango', 'apple', 'chiku', 'banana', 'graphes']\n"
     ]
    }
   ],
   "source": [
    "fruits=[\"mango\",\"apple\",\"chiku\",\"banana\",\"graphes\"]\n",
    "print(fruits)"
   ]
  },
  {
   "cell_type": "code",
   "execution_count": 4,
   "id": "e187913f-bb3d-4498-8d1d-c8bcdf755c0b",
   "metadata": {},
   "outputs": [
    {
     "name": "stdout",
     "output_type": "stream",
     "text": [
      "['mango', 'apple', 'chiku', 'banana']\n"
     ]
    }
   ],
   "source": [
    "fruits.pop()\n",
    "print(fruits)"
   ]
  },
  {
   "cell_type": "code",
   "execution_count": 6,
   "id": "97cd2df9-07fe-4b6d-a51b-5ab90eed44b3",
   "metadata": {},
   "outputs": [
    {
     "name": "stdout",
     "output_type": "stream",
     "text": [
      "['mango', 'apple', 'chiku', 'banana', 'orange']\n"
     ]
    }
   ],
   "source": [
    "fruits.append(\"orange\")\n",
    "print(fruits)"
   ]
  },
  {
   "cell_type": "code",
   "execution_count": 8,
   "id": "da470a8e-4795-42a2-90aa-b66473c66afe",
   "metadata": {},
   "outputs": [
    {
     "name": "stdout",
     "output_type": "stream",
     "text": [
      "('mango', 'apple', 'chiku', 'banana', 'graphes')\n"
     ]
    }
   ],
   "source": [
    "fruits_tuple = ('mango','apple','chiku','banana','graphes')\n",
    "print(fruits_tuple)"
   ]
  },
  {
   "cell_type": "code",
   "execution_count": 16,
   "id": "ab569d8f-d452-47e5-a4ce-42e213612ce3",
   "metadata": {},
   "outputs": [
    {
     "name": "stdout",
     "output_type": "stream",
     "text": [
      "{'car': 'BMW', 'col': 'Blue', 'type': 'Hybrid'}\n"
     ]
    }
   ],
   "source": [
    "cars={\"Name\":\"BMW\",\"Color\":\"Blue\",\"Type\":\"Hybrid\"}\n",
    "print(dict)"
   ]
  },
  {
   "cell_type": "code",
   "execution_count": 26,
   "id": "0a716048-bc98-4303-8fea-b364656ba701",
   "metadata": {},
   "outputs": [
    {
     "name": "stdout",
     "output_type": "stream",
     "text": [
      "BMW\n"
     ]
    }
   ],
   "source": [
    "print(cars['Name'])"
   ]
  },
  {
   "cell_type": "code",
   "execution_count": 30,
   "id": "81aa95c6-3d0e-416e-a01d-5e83f59cee39",
   "metadata": {},
   "outputs": [
    {
     "name": "stdout",
     "output_type": "stream",
     "text": [
      "BMW Blue Hybrid\n"
     ]
    }
   ],
   "source": [
    "print(cars['Name'],cars['Color'],cars['Type'])"
   ]
  },
  {
   "cell_type": "code",
   "execution_count": 34,
   "id": "b7b545e7-36aa-441a-a7c6-c7c9f0c68854",
   "metadata": {},
   "outputs": [
    {
     "data": {
      "text/plain": [
       "dict_values(['BMW', 'Blue', 'Hybrid'])"
      ]
     },
     "execution_count": 34,
     "metadata": {},
     "output_type": "execute_result"
    }
   ],
   "source": [
    "cars.values()"
   ]
  },
  {
   "cell_type": "code",
   "execution_count": 38,
   "id": "53b224f7-d6a2-4516-8e55-edd1098d585c",
   "metadata": {},
   "outputs": [
    {
     "data": {
      "text/plain": [
       "dict_keys(['Name', 'Color', 'Type'])"
      ]
     },
     "execution_count": 38,
     "metadata": {},
     "output_type": "execute_result"
    }
   ],
   "source": [
    "cars.keys()"
   ]
  },
  {
   "cell_type": "code",
   "execution_count": 44,
   "id": "727886a7-9e1f-4e88-8845-f1cc6f6a553d",
   "metadata": {},
   "outputs": [
    {
     "name": "stdout",
     "output_type": "stream",
     "text": [
      "{'green', 'red'}\n"
     ]
    }
   ],
   "source": [
    "set= {\"red\", \"green\" ,\"red\"}  \n",
    "print(set)"
   ]
  },
  {
   "cell_type": "code",
   "execution_count": 72,
   "id": "77c90e0e-c94b-4c5f-b073-ce0947cd9e59",
   "metadata": {},
   "outputs": [],
   "source": [
    "def even_no():\n",
    "    for i in range (0,51):\n",
    "        if(i%2==0):\n",
    "            print(i)"
   ]
  },
  {
   "cell_type": "code",
   "execution_count": 74,
   "id": "20e849d1-1924-4452-b1b9-a57f9b35ef3c",
   "metadata": {},
   "outputs": [
    {
     "name": "stdout",
     "output_type": "stream",
     "text": [
      "0\n",
      "2\n",
      "4\n",
      "6\n",
      "8\n",
      "10\n",
      "12\n",
      "14\n",
      "16\n",
      "18\n",
      "20\n",
      "22\n",
      "24\n",
      "26\n",
      "28\n",
      "30\n",
      "32\n",
      "34\n",
      "36\n",
      "38\n",
      "40\n",
      "42\n",
      "44\n",
      "46\n",
      "48\n",
      "50\n"
     ]
    }
   ],
   "source": [
    "even_no()"
   ]
  },
  {
   "cell_type": "code",
   "execution_count": 116,
   "id": "891c3d9d-dc11-4f83-9842-cb8422d6f06f",
   "metadata": {},
   "outputs": [
    {
     "name": "stdout",
     "output_type": "stream",
     "text": [
      "PES Modern College of Enginneing Pune\n"
     ]
    }
   ],
   "source": [
    "var= \"PES Modern College of Enginneing Pune\"\n",
    "print(var)"
   ]
  },
  {
   "cell_type": "code",
   "execution_count": 130,
   "id": "48ffa86a-ef58-4cd3-9ee5-ec6bffe3b1cc",
   "metadata": {},
   "outputs": [],
   "source": [
    "vowels=['a','e','i','o','u']\n",
    "def convar():\n",
    "    results=''\n",
    "    text=var.lower()\n",
    "    for i in text:\n",
    "        if i not in vowels:\n",
    "            results+=i\n",
    "    print(results)\n"
   ]
  },
  {
   "cell_type": "code",
   "execution_count": 132,
   "id": "73d360fe-df37-458a-a315-56430976423c",
   "metadata": {},
   "outputs": [
    {
     "name": "stdout",
     "output_type": "stream",
     "text": [
      "ps mdrn cllg f ngnnng pn\n"
     ]
    }
   ],
   "source": [
    "convar()"
   ]
  },
  {
   "cell_type": "code",
   "execution_count": 126,
   "id": "4e9b8a4a-68a9-4c24-b6b4-0c60fe0b013a",
   "metadata": {},
   "outputs": [
    {
     "name": "stdin",
     "output_type": "stream",
     "text": [
      "Enter a number to print its table:  2\n",
      "Enter how many multiples you want:  10\n"
     ]
    },
    {
     "name": "stdout",
     "output_type": "stream",
     "text": [
      "\n",
      "Table of 2:\n",
      "2 x 1 = 2\n",
      "2 x 2 = 4\n",
      "2 x 3 = 6\n",
      "2 x 4 = 8\n",
      "2 x 5 = 10\n",
      "2 x 6 = 12\n",
      "2 x 7 = 14\n",
      "2 x 8 = 16\n",
      "2 x 9 = 18\n",
      "2 x 10 = 20\n"
     ]
    }
   ],
   "source": [
    "\n",
    "num = int(input(\"Enter a number to print its table: \"))\n",
    "\n",
    "limit = int(input(\"Enter how many multiples you want: \"))\n",
    "\n",
    "print(f\"\\nTable of {num}:\")\n",
    "for i in range(1, limit + 1):\n",
    "    print(f\"{num} x {i} = {num * i}\")\n"
   ]
  },
  {
   "cell_type": "code",
   "execution_count": 134,
   "id": "77953b04-33f8-4cfb-9f61-729658bc5bf8",
   "metadata": {},
   "outputs": [
    {
     "name": "stdout",
     "output_type": "stream",
     "text": [
      "<class 'int'>\n"
     ]
    }
   ],
   "source": [
    "print(type(5))"
   ]
  },
  {
   "cell_type": "code",
   "execution_count": 136,
   "id": "f231cc1f-4601-40ec-a600-b20df2100b8d",
   "metadata": {},
   "outputs": [
    {
     "name": "stdout",
     "output_type": "stream",
     "text": [
      "<class 'set'>\n"
     ]
    }
   ],
   "source": [
    "print(type(a))"
   ]
  },
  {
   "cell_type": "code",
   "execution_count": 158,
   "id": "15d5ead7-2e3e-4c53-8000-7767aa76dbe6",
   "metadata": {},
   "outputs": [],
   "source": [
    "class Dog:\n",
    "    attr1 = \"mammal\"\n",
    "\n",
    "    def __init__(self,name):\n",
    "        self.name=name\n",
    "\n",
    "    def speak(self):\n",
    "        print(\"My name is {}\" .format(self.name))"
   ]
  },
  {
   "cell_type": "code",
   "execution_count": 162,
   "id": "83362cfa-bfa2-4520-92a4-0168174eb7ba",
   "metadata": {},
   "outputs": [
    {
     "name": "stdout",
     "output_type": "stream",
     "text": [
      "My name is Tiger\n"
     ]
    }
   ],
   "source": [
    "Tommy=Dog(\"Tiger\")\n",
    "Tommy.speak()"
   ]
  },
  {
   "cell_type": "code",
   "execution_count": 7,
   "id": "2cdb7265-e8cf-44e5-8e74-6be12c10286d",
   "metadata": {},
   "outputs": [
    {
     "name": "stdin",
     "output_type": "stream",
     "text": [
      "Enter the student's name:  Vishwajeet\n",
      "Enter the roll number:  44\n",
      "Enter the age:  21\n",
      "Enter the salary:  1000000.0\n"
     ]
    },
    {
     "ename": "NameError",
     "evalue": "name 'Student' is not defined",
     "output_type": "error",
     "traceback": [
      "\u001b[1;31m---------------------------------------------------------------------------\u001b[0m",
      "\u001b[1;31mNameError\u001b[0m                                 Traceback (most recent call last)",
      "Cell \u001b[1;32mIn[7], line 28\u001b[0m\n\u001b[0;32m     24\u001b[0m age \u001b[38;5;241m=\u001b[39m \u001b[38;5;28mint\u001b[39m(\u001b[38;5;28minput\u001b[39m(\u001b[38;5;124m\"\u001b[39m\u001b[38;5;124mEnter the age: \u001b[39m\u001b[38;5;124m\"\u001b[39m))\n\u001b[0;32m     25\u001b[0m salary \u001b[38;5;241m=\u001b[39m \u001b[38;5;28mfloat\u001b[39m(\u001b[38;5;28minput\u001b[39m(\u001b[38;5;124m\"\u001b[39m\u001b[38;5;124mEnter the salary: \u001b[39m\u001b[38;5;124m\"\u001b[39m))\n\u001b[1;32m---> 28\u001b[0m s \u001b[38;5;241m=\u001b[39m Student(name, roll_no, age, salary)\n\u001b[0;32m     29\u001b[0m s\u001b[38;5;241m.\u001b[39mspeak()\n",
      "\u001b[1;31mNameError\u001b[0m: name 'Student' is not defined"
     ]
    }
   ],
   "source": [
    "class Parent:\n",
    "    def __init__(self, name, roll_no):\n",
    "        self.name = name\n",
    "        self.roll_no = roll_no\n",
    "\n",
    "    def speak(self):\n",
    "        print(\"Name of the student is:\", self.name)\n",
    "        print(\"Roll number of the student is:\", self.roll_no)\n",
    "\n",
    "class Child:\n",
    "    def __init__(self, name, roll_no, age, salary):\n",
    "        super().__init__(name, roll_no)\n",
    "        self.age = age\n",
    "        self.salary = salary\n",
    "\n",
    "    def speak(self):\n",
    "        super().speak()\n",
    "        print(\"Age of the student is:\", self.age)\n",
    "        print(\"Salary of the student is:\", self.salary)\n",
    "\n",
    "\n",
    "name = input(\"Enter the student's name: \")\n",
    "roll_no = int(input(\"Enter the roll number: \"))\n",
    "age = int(input(\"Enter the age: \"))\n",
    "salary = float(input(\"Enter the salary: \"))\n",
    "\n",
    "\n",
    "s = Student(name, roll_no, age, salary)\n",
    "s.speak()\n"
   ]
  },
  {
   "cell_type": "code",
   "execution_count": null,
   "id": "f7bd8430-c87f-4b78-9e59-09245a677514",
   "metadata": {},
   "outputs": [],
   "source": []
  }
 ],
 "metadata": {
  "kernelspec": {
   "display_name": "Python 3 (ipykernel)",
   "language": "python",
   "name": "python3"
  },
  "language_info": {
   "codemirror_mode": {
    "name": "ipython",
    "version": 3
   },
   "file_extension": ".py",
   "mimetype": "text/x-python",
   "name": "python",
   "nbconvert_exporter": "python",
   "pygments_lexer": "ipython3",
   "version": "3.11.5"
  }
 },
 "nbformat": 4,
 "nbformat_minor": 5
}
